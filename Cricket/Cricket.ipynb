{
  "nbformat": 4,
  "nbformat_minor": 0,
  "metadata": {
    "colab": {
      "provenance": []
    },
    "kernelspec": {
      "name": "python3",
      "display_name": "Python 3"
    },
    "language_info": {
      "name": "python"
    }
  },
  "cells": [
    {
      "cell_type": "code",
      "execution_count": 2,
      "metadata": {
        "id": "6uCkWC-Iuulr"
      },
      "outputs": [],
      "source": [
        "import pandas as pd\n",
        "import numpy as np\n",
        "import matplotlib.pyplot as plt\n",
        "import seaborn as sns\n",
        "from sklearn.model_selection import train_test_split\n",
        "from sklearn.linear_model import LogisticRegression"
      ]
    },
    {
      "cell_type": "code",
      "source": [
        "world_cup=pd.read_csv('World Cup 2019 Dataset.csv')\n",
        "result=pd.read_csv('results.csv')\n",
        "fixtures=pd.read_csv('fixtures.csv')\n",
        "ranking=pd.read_csv('icc_rankings.csv')"
      ],
      "metadata": {
        "id": "z0nWLVPBv1SK"
      },
      "execution_count": 3,
      "outputs": []
    },
    {
      "cell_type": "code",
      "source": [
        "world_cup.head()"
      ],
      "metadata": {
        "id": "Z7bKOI4Sv5L0"
      },
      "execution_count": null,
      "outputs": []
    },
    {
      "cell_type": "code",
      "source": [
        "result.head()"
      ],
      "metadata": {
        "id": "kaw3Lk5Iv7CY"
      },
      "execution_count": null,
      "outputs": []
    },
    {
      "cell_type": "code",
      "source": [
        "fixtures.head()"
      ],
      "metadata": {
        "id": "UY_meXTTwJQW"
      },
      "execution_count": null,
      "outputs": []
    },
    {
      "cell_type": "code",
      "source": [
        "ranking.head()"
      ],
      "metadata": {
        "id": "KU38w_DNwSeF"
      },
      "execution_count": null,
      "outputs": []
    },
    {
      "cell_type": "code",
      "source": [
        "india=result[(result['Team_1']=='India')|(result['Team_2']=='India')]\n",
        "india.head()"
      ],
      "metadata": {
        "id": "Pyxo6t0owU0L"
      },
      "execution_count": null,
      "outputs": []
    },
    {
      "cell_type": "code",
      "source": [
        "World_cup_teams=['England', ' South Africa', 'West Indies', 'Pakistan', 'New Zealand', 'Sri Lanka', 'Afghanistan', 'Australia', 'Bangladesh', 'India']\n",
        "team1=result[result['Team_1'].isin(World_cup_teams)]\n",
        "team2=result[result['Team_2'].isin(World_cup_teams)]\n",
        "teams=pd.concat((team1,team2))\n",
        "teams=teams.drop_duplicates()"
      ],
      "metadata": {
        "id": "3ZPU8eczwqQn"
      },
      "execution_count": 12,
      "outputs": []
    },
    {
      "cell_type": "code",
      "source": [
        "team_result=teams.drop(['date','Margin','Ground'],axis=1)\n",
        "team_result.head()"
      ],
      "metadata": {
        "id": "wTflH5aywu29"
      },
      "execution_count": null,
      "outputs": []
    },
    {
      "cell_type": "code",
      "source": [
        "final_result= pd.get_dummies(team_result, prefix=['Team_1', 'Team_2'], columns=['Team_1', 'Team_2'])\n",
        "final_result.head()"
      ],
      "metadata": {
        "id": "3vcXhsknw1vU"
      },
      "execution_count": null,
      "outputs": []
    },
    {
      "cell_type": "code",
      "source": [
        "X=final_result.drop(['Winner'],axis=1)\n",
        "y=final_result['Winner']\n",
        "X_train,X_test,y_train,y_test=train_test_split(X,y,test_size=0.30,random_state=42)"
      ],
      "metadata": {
        "id": "d87Fo17Cw8je"
      },
      "execution_count": 15,
      "outputs": []
    },
    {
      "cell_type": "code",
      "source": [
        "model=LogisticRegression()\n",
        "model.fit(X_train,y_train)\n",
        "train_score=model.score(X_train,y_train)\n",
        "test_score=model.score(X_test,y_test)\n",
        "print(\"Traning accuracy: \",train_score)\n",
        "print(\"Testing accuracy: \",test_score)"
      ],
      "metadata": {
        "colab": {
          "base_uri": "https://localhost:8080/"
        },
        "id": "TQT19I6fxEOH",
        "outputId": "dd185d06-029a-4eab-dcb2-76037d9e6274"
      },
      "execution_count": 16,
      "outputs": [
        {
          "output_type": "stream",
          "name": "stdout",
          "text": [
            "Traning accuracy:  0.7216\n",
            "Testing accuracy:  0.587360594795539\n"
          ]
        }
      ]
    },
    {
      "cell_type": "code",
      "source": [
        "fixtures.insert(1,'Team_1_position',fixtures['Team_1'].map(ranking.set_index('Team')['Position']))\n",
        "fixtures.insert(2,'Team_2_position',fixtures['Team_2'].map(ranking.set_index('Team')['Position']))\n",
        "fixture=fixtures.iloc[:45,:]\n",
        "fixture.head()"
      ],
      "metadata": {
        "id": "533zmsqXxF4X"
      },
      "execution_count": null,
      "outputs": []
    },
    {
      "cell_type": "code",
      "source": [
        "final_set=fixture[['Team_1','Team_2']]\n",
        "final_set = pd.get_dummies(final_set, prefix=['Team_1', 'Team_2'], columns=['Team_1', 'Team_2'])\n",
        "for col in (set(final_result.columns)-set(final_set.columns)):\n",
        "    final_set[col]=0\n",
        "final_set=final_set.sort_index(axis=1)\n",
        "final_set=final_set.drop(['Winner'],axis=1)\n",
        "final_set.head()"
      ],
      "metadata": {
        "id": "b-W4xwWcxX-f"
      },
      "execution_count": null,
      "outputs": []
    },
    {
      "cell_type": "code",
      "source": [
        "prediction=model.predict(final_set)"
      ],
      "metadata": {
        "id": "TZIRyGZdxd3q"
      },
      "execution_count": 19,
      "outputs": []
    },
    {
      "cell_type": "code",
      "source": [
        "for index,tuples in fixture.iterrows():\n",
        "    print(\"Teams: \" + tuples['Team_1']+ \" and \" + tuples['Team_2'])\n",
        "    print(\"Winner:\"+ prediction[index])"
      ],
      "metadata": {
        "id": "yogczMf7xjHo"
      },
      "execution_count": null,
      "outputs": []
    },
    {
      "cell_type": "code",
      "source": [
        "for i in range(len(prediction)):\n",
        "    fixture['Result'].iloc[i]=prediction[i]"
      ],
      "metadata": {
        "id": "m4n_ZyEoxq4C"
      },
      "execution_count": null,
      "outputs": []
    },
    {
      "cell_type": "code",
      "source": [
        "fixture['Result'].value_counts().plot(kind='bar')"
      ],
      "metadata": {
        "id": "GEZVYWFIx4UR"
      },
      "execution_count": null,
      "outputs": []
    },
    {
      "cell_type": "code",
      "source": [
        "def predict_result(matches,final_result,ranking,model,match_type):\n",
        "    #obtaining team position\n",
        "    team_position=[]\n",
        "    for match in matches:\n",
        "        team_position.append([ranking.loc[ranking['Team'] == match[0],'Position'].iloc[0],ranking.loc[ranking['Team'] == match[1],'Position'].iloc[0]])\n",
        "\n",
        "    #transforming data into useful information\n",
        "    final=pd.DataFrame()\n",
        "    final[['Team_1','Team_2']]=pd.DataFrame(matches)\n",
        "    final_set=final\n",
        "    final_set = pd.get_dummies(final_set, prefix=['Team_1', 'Team_2'], columns=['Team_1', 'Team_2'])\n",
        "\n",
        "    for col in (set(final_result.columns)-set(final_set.columns)):\n",
        "        final_set[col]=0\n",
        "    final_set=final_set.sort_index(axis=1)\n",
        "    final_set=final_set.drop(['Winner'],axis=1)\n",
        "\n",
        "\n",
        "    #predict winner\n",
        "    prediction=model.predict(final_set)\n",
        "\n",
        "\n",
        "    #Results from League mathes\n",
        "    if match_type == 'League':\n",
        "        print(\"League Matches\")\n",
        "\n",
        "        final_fixture=fixtures[0:45]\n",
        "        for index,tuples in final_fixture.iterrows():\n",
        "            print(\"Teams: \" + tuples['Team_1']+ \" and \" + tuples['Team_2'])\n",
        "            print(\"Winner: \"+ prediction[index])\n",
        "            fixtures['Result'].iloc[index]=prediction[index]\n",
        "\n",
        "        Semi_final_teams=[]\n",
        "        for i in range(4):\n",
        "            Semi_final_teams.append(fixture['Result'].value_counts().index[i])\n",
        "        matches=[(Semi_final_teams[0],Semi_final_teams[3]),(Semi_final_teams[1],Semi_final_teams[2])]\n",
        "        match_type=\"Semi-Final\"\n",
        "        predict_result(matches,final_result,ranking,model,match_type)\n",
        "\n",
        "    #Result from semi-final\n",
        "    elif match_type == 'Semi-Final':\n",
        "        print(\"\\nSemi-Final Matches\")\n",
        "        final_fixture=fixtures[45:47]\n",
        "        for index,tuples in final_fixture.iterrows():\n",
        "            fixtures['Team_1'].iloc[index]=final['Team_1'].iloc[index-45]\n",
        "            fixtures['Team_2'].iloc[index]=final['Team_2'].iloc[index-45]\n",
        "            fixtures['Team_1_position'].iloc[index]=team_position[index-45][0]\n",
        "            fixtures['Team_2_position'].iloc[index]=team_position[index-45][1]\n",
        "        final_fixture=fixtures[45:47]\n",
        "        for index,tuples in final_fixture.iterrows():\n",
        "            print(\"Teams: \" + tuples['Team_1']+ \" and \" + tuples['Team_2'])\n",
        "            print(\"Winner: \"+ prediction[index-45])\n",
        "            fixtures['Result'].iloc[index]=prediction[index-45]\n",
        "        matches=[(prediction[0],prediction[1])]\n",
        "        match_type=\"Final\"\n",
        "        predict_result(matches,final_result,ranking,model,match_type)\n",
        "\n",
        "    #Result of Final\n",
        "    elif match_type == 'Final':\n",
        "        print(\"\\nFinal Match\")\n",
        "        final_fixture=fixtures[47:48]\n",
        "        for index,tuples in final_fixture.iterrows():\n",
        "            fixtures['Team_1'].iloc[index]=final['Team_1'].iloc[index-47]\n",
        "            fixtures['Team_2'].iloc[index]=final['Team_2'].iloc[index-47]\n",
        "            fixtures['Team_1_position'].iloc[index]=team_position[index-47][0]\n",
        "            fixtures['Team_2_position'].iloc[index]=team_position[index-47][1]\n",
        "        final_fixture=fixtures[47:48]\n",
        "        for index,tuples in final_fixture.iterrows():\n",
        "            print(\"Teams: \" + tuples['Team_1']+ \" and \" + tuples['Team_2'])\n",
        "            print(\"Winner: \"+ prediction[0]+\"\\n\")\n",
        "            fixtures['Result'].iloc[index]=prediction[index-47]\n",
        "        print(\"Winner Of the tournament is: \" + fixtures['Result'].iloc[47])"
      ],
      "metadata": {
        "id": "rqCSfKXlyAMw"
      },
      "execution_count": 23,
      "outputs": []
    }
  ]
}